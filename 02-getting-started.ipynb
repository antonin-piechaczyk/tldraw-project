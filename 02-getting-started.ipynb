{
 "cells": [
  {
   "cell_type": "markdown",
   "id": "2d474a3e-274d-4bf8-95f3-2c18179877d9",
   "metadata": {},
   "source": [
    "---\n",
    "title: Getting Started\n",
    "date: 2023-11-30 \n",
    "authors:\n",
    "  - name: Sébastien Boisgérault\n",
    "    email: Sebastien.Boisgerault@minesparis.psl.eu\n",
    "    url: https://github.com/boisgera\n",
    "    affiliations:\n",
    "      - institution: Mines Paris - PSL University\n",
    "        department: Institut des Transformation Numériques (ITN)\n",
    "github: boisgera\n",
    "license: CC-BY-4.0\n",
    "open_access: true\n",
    "---"
   ]
  },
  {
   "cell_type": "markdown",
   "id": "99eb7623-348a-4873-9200-614c9be5bdb6",
   "metadata": {},
   "source": [
    "![tldraw](images/hello-tldraw.png)    "
   ]
  },
  {
   "cell_type": "markdown",
   "id": "f2cbb2bd-92e6-4c23-95b5-7996e1850533",
   "metadata": {},
   "source": [
    "# A Simple Document"
   ]
  },
  {
   "cell_type": "markdown",
   "id": "c95958ae-0e8e-40b3-9a1a-963745eda44e",
   "metadata": {},
   "source": [
    "```{exercise} Create a \"Hello tldraw!\" document\n",
    "\n",
    " 1. Download the folder of this project on your computer. \n",
    "  \n",
    " 2. Create an tldraw document that contains the text \"Hello tldraw!\" and save it on your computer.\n",
    " \n",
    " 3. Rename your tldraw document `hello-tldraw.tldr` and move it into the `docs` subfolder of the project.\n",
    "```"
   ]
  },
  {
   "cell_type": "code",
   "execution_count": null,
   "id": "aa753e0d-9ef8-41a6-a4b6-c84dbecc124f",
   "metadata": {},
   "outputs": [],
   "source": []
  },
  {
   "cell_type": "code",
   "execution_count": 13,
   "id": "8961fc49-7191-4a88-9602-90f62731a54c",
   "metadata": {},
   "outputs": [
    {
     "ename": "FileNotFoundError",
     "evalue": "[WinError 2] Le fichier spécifié est introuvable: 'tldraw.tldr' -> 'hello-tldraw.tldr'",
     "output_type": "error",
     "traceback": [
      "\u001b[1;31m---------------------------------------------------------------------------\u001b[0m",
      "\u001b[1;31mFileNotFoundError\u001b[0m                         Traceback (most recent call last)",
      "Cell \u001b[1;32mIn[13], line 11\u001b[0m\n\u001b[0;32m      8\u001b[0m sous_dossier \u001b[38;5;241m=\u001b[39m \u001b[38;5;124m\"\u001b[39m\u001b[38;5;124mtldraw-project\u001b[39m\u001b[38;5;124m\"\u001b[39m\n\u001b[0;32m     10\u001b[0m \u001b[38;5;66;03m# Renommer le fichier\u001b[39;00m\n\u001b[1;32m---> 11\u001b[0m \u001b[43mos\u001b[49m\u001b[38;5;241;43m.\u001b[39;49m\u001b[43mrename\u001b[49m\u001b[43m(\u001b[49m\u001b[43mancien_nom_fichier\u001b[49m\u001b[43m,\u001b[49m\u001b[43m \u001b[49m\u001b[43mnouveau_nom_fichier\u001b[49m\u001b[43m)\u001b[49m\n\u001b[0;32m     13\u001b[0m \u001b[38;5;66;03m# Déplacer le fichier dans le sous-dossier\u001b[39;00m\n\u001b[0;32m     14\u001b[0m chemin_destination \u001b[38;5;241m=\u001b[39m os\u001b[38;5;241m.\u001b[39mpath\u001b[38;5;241m.\u001b[39mjoin(sous_dossier, nouveau_nom_fichier)\n",
      "\u001b[1;31mFileNotFoundError\u001b[0m: [WinError 2] Le fichier spécifié est introuvable: 'tldraw.tldr' -> 'hello-tldraw.tldr'"
     ]
    }
   ],
   "source": [
    "import os\n",
    "\n",
    "# Ancien nom du fichier\n",
    "ancien_nom_fichier = \"tldraw.tldr\"\n",
    "# Nouveau nom du fichier\n",
    "nouveau_nom_fichier = \"hello-tldraw.tldr\"\n",
    "# Chemin du sous-dossier\n",
    "sous_dossier = \"tldraw-project\"\n",
    "\n",
    "# Renommer le fichier\n",
    "os.rename(ancien_nom_fichier, nouveau_nom_fichier)\n",
    "\n",
    "# Déplacer le fichier dans le sous-dossier\n",
    "chemin_destination = os.path.join(sous_dossier, nouveau_nom_fichier)\n",
    "os.replace(nouveau_nom_fichier, chemin_destination)\n",
    "\n",
    "print(f\"Le fichier {ancien_nom_fichier} a été renommé en {nouveau_nom_fichier} et déplacé dans le sous-dossier {sous_dossier}.\")"
   ]
  },
  {
   "cell_type": "markdown",
   "id": "f663cb6a-c804-4438-a6bb-7132a7c86332",
   "metadata": {},
   "source": [
    "Tldraw files are (utf-8-encoded) text files and therefore can be easily inspected. \n",
    "\n",
    "```{exercise} What's the format of tldraw documents?\n",
    "\n",
    "  1. Print the content of your \"Hello tldraw!\" document into this notebook.\n",
    "\n",
    "  2. The tldraw document format is a dialect of a general-purpose structured data format. \n",
    "  \n",
    "     Which one is it? (JSON, XML, CSV? something else?)\n",
    "\n",
    "```\n"
   ]
  },
  {
   "cell_type": "code",
   "execution_count": 14,
   "id": "131197b9-df8d-4b2a-a0d9-dc967ecf0437",
   "metadata": {},
   "outputs": [
    {
     "name": "stdout",
     "output_type": "stream",
     "text": [
      "Hello tldraw!\n"
     ]
    }
   ],
   "source": [
    "hello_path = \"/Users/anton/tldraw-project/docs/hello-tldraw.tldr\"\n",
    "\n",
    "with open(hello_path, 'r', encoding='utf-8') as file:\n",
    "        content = file.read()\n",
    "        print(content)"
   ]
  },
  {
   "cell_type": "code",
   "execution_count": 15,
   "id": "b6fd180b-8058-40c7-a444-7a9054044a19",
   "metadata": {
    "scrolled": true
   },
   "outputs": [
    {
     "ename": "NameError",
     "evalue": "name 'JSON' is not defined",
     "output_type": "error",
     "traceback": [
      "\u001b[1;31m---------------------------------------------------------------------------\u001b[0m",
      "\u001b[1;31mNameError\u001b[0m                                 Traceback (most recent call last)",
      "Cell \u001b[1;32mIn[15], line 1\u001b[0m\n\u001b[1;32m----> 1\u001b[0m \u001b[43mJSON\u001b[49m\n",
      "\u001b[1;31mNameError\u001b[0m: name 'JSON' is not defined"
     ]
    }
   ],
   "source": [
    "JSON"
   ]
  },
  {
   "cell_type": "markdown",
   "id": "a8f5e1cc-1425-4394-8d73-47640d66d298",
   "metadata": {},
   "source": [
    "\n",
    "```{exercise} Load the document\n",
    ":label: load\n",
    "\n",
    " 1. Find the Python standard library that deals with the file format use by tldraw.\n",
    "\n",
    " 2. Use it to load the tldraw document as a tree-like structure (⚠️ not as a string!).\n",
    "\n",
    " 3. Name this structure `hello`.\n",
    "\n",
    "```"
   ]
  },
  {
   "cell_type": "code",
   "execution_count": 2,
   "id": "b3143ebb-5ddb-4fe4-b982-730edebb4dfe",
   "metadata": {},
   "outputs": [
    {
     "ename": "SyntaxError",
     "evalue": "invalid syntax (3798669001.py, line 1)",
     "output_type": "error",
     "traceback": [
      "\u001b[1;36m  Cell \u001b[1;32mIn[2], line 1\u001b[1;36m\u001b[0m\n\u001b[1;33m    tldraw utilise le format JSON, on peut donc utiliser le module json de la bibliothèque standard Python pour travailler avec des données JSON.\u001b[0m\n\u001b[1;37m           ^\u001b[0m\n\u001b[1;31mSyntaxError\u001b[0m\u001b[1;31m:\u001b[0m invalid syntax\n"
     ]
    }
   ],
   "source": [
    "tldraw utilise le format JSON, on peut donc utiliser le module json de la bibliothèque standard Python pour travailler avec des données JSON."
   ]
  },
  {
   "cell_type": "code",
   "execution_count": 4,
   "id": "0b80b124-6cfd-4e48-a0b1-916807b8dab1",
   "metadata": {},
   "outputs": [],
   "source": []
  },
  {
   "cell_type": "code",
   "execution_count": 6,
   "id": "5d372128-8148-4a67-9057-4b19bfb4ac87",
   "metadata": {},
   "outputs": [
    {
     "name": "stdout",
     "output_type": "stream",
     "text": [
      "{'tldrawFileFormatVersion': 1, 'schema': {'schemaVersion': 1, 'storeVersion': 4, 'recordVersions': {'asset': {'version': 1, 'subTypeKey': 'type', 'subTypeVersions': {'image': 3, 'video': 3, 'bookmark': 1}}, 'camera': {'version': 1}, 'document': {'version': 2}, 'instance': {'version': 24}, 'instance_page_state': {'version': 5}, 'page': {'version': 1}, 'shape': {'version': 3, 'subTypeKey': 'type', 'subTypeVersions': {'group': 0, 'text': 1, 'bookmark': 2, 'draw': 1, 'geo': 8, 'note': 5, 'line': 1, 'frame': 0, 'arrow': 3, 'highlight': 0, 'embed': 4, 'image': 3, 'video': 2}}, 'instance_presence': {'version': 5}, 'pointer': {'version': 1}}}, 'records': [{'gridSize': 10, 'name': '', 'meta': {}, 'id': 'document:document', 'typeName': 'document'}, {'id': 'pointer:pointer', 'typeName': 'pointer', 'x': 19.200000762939453, 'y': 43.80000305175781, 'lastActivityTimestamp': 1707574528374, 'meta': {}}, {'meta': {}, 'id': 'page:page', 'name': 'Page 1', 'index': 'a1', 'typeName': 'page'}, {'x': 0, 'y': 0, 'z': 1, 'meta': {}, 'id': 'camera:page:page', 'typeName': 'camera'}, {'editingShapeId': None, 'croppingShapeId': None, 'selectedShapeIds': [], 'hoveredShapeId': None, 'erasingShapeIds': [], 'hintingShapeIds': [], 'focusedGroupId': None, 'meta': {}, 'id': 'instance_page_state:page:page', 'pageId': 'page:page', 'typeName': 'instance_page_state'}, {'followingUserId': None, 'opacityForNextShape': 1, 'stylesForNextShape': {'tldraw:dash': 'draw', 'tldraw:size': 'm'}, 'brush': None, 'scribbles': [], 'cursor': {'type': 'default', 'rotation': 0}, 'isFocusMode': False, 'exportBackground': True, 'isDebugMode': False, 'isToolLocked': False, 'screenBounds': {'x': 0, 'y': 0, 'w': 1536, 'h': 695.2000122070312}, 'insets': [False, False, True, False], 'zoomBrush': None, 'isGridMode': False, 'isPenMode': False, 'chatMessage': '', 'isChatting': False, 'highlightedUserIds': [], 'canMoveCamera': True, 'isFocused': True, 'devicePixelRatio': 1.25, 'isCoarsePointer': False, 'isHoveringCanvas': False, 'openMenus': ['main menu', 'main menu menu file'], 'isChangingStyle': False, 'isReadonly': False, 'meta': {}, 'duplicateProps': None, 'id': 'instance:instance', 'currentPageId': 'page:page', 'typeName': 'instance'}, {'x': 557.7654911198819, 'y': 238.80002975463867, 'rotation': 0, 'isLocked': False, 'opacity': 1, 'meta': {}, 'id': 'shape:4squXDBZQG64yg2i-x7Vv', 'type': 'text', 'props': {'color': 'black', 'size': 'm', 'w': 163.60000610351562, 'text': 'Hello tldraw!', 'font': 'draw', 'align': 'middle', 'autoSize': True, 'scale': 2.283949803295851}, 'parentId': 'page:page', 'index': 'a1', 'typeName': 'shape'}]}\n"
     ]
    }
   ],
   "source": [
    "#on utilise json.load()\n",
    "\n",
    "import json\n",
    "\n",
    "# Lecture des données JSON depuis un fichier\n",
    "with open('hello-tldraw.tldr', 'r') as fichier:\n",
    "    hello = json.load(fichier)\n",
    "\n",
    "# Affichage de la structure arborescente\n",
    "print(hello)\n"
   ]
  },
  {
   "cell_type": "code",
   "execution_count": null,
   "id": "080182dc-c924-442c-a0e5-f2d4eeaddc01",
   "metadata": {},
   "outputs": [],
   "source": []
  },
  {
   "cell_type": "markdown",
   "id": "a6ce392d-b8fa-4df2-a5e1-e5c9b81dffc8",
   "metadata": {},
   "source": [
    "# Records & Shapes"
   ]
  },
  {
   "cell_type": "markdown",
   "id": "c30a7788-e59e-42ab-a5da-c43aa1bb0872",
   "metadata": {},
   "source": [
    "```{exercise} Structure\n",
    ":label:\n",
    "\n",
    " 1. Can you locate a list of \"records\" inside `doc`? Name that list `records`.\n",
    "\n",
    " 2. Records all have a type name. Can you list all of them?\n",
    "\n",
    " 3. There should be a single shape among your records. What's it's `type`?\n",
    "\n",
    " 4. Name `hello_text` this record and display it in the notebook\n",
    "\n",
    "```"
   ]
  },
  {
   "cell_type": "code",
   "execution_count": 38,
   "id": "84d713e5-6fa9-412a-ab7e-31c526371895",
   "metadata": {},
   "outputs": [
    {
     "name": "stdout",
     "output_type": "stream",
     "text": [
      "[{'gridSize': 10, 'name': '', 'meta': {}, 'id': 'document:document', 'typeName': 'document'}, {'id': 'pointer:pointer', 'typeName': 'pointer', 'x': 19.200000762939453, 'y': 43.80000305175781, 'lastActivityTimestamp': 1707574528374, 'meta': {}}, {'meta': {}, 'id': 'page:page', 'name': 'Page 1', 'index': 'a1', 'typeName': 'page'}, {'x': 0, 'y': 0, 'z': 1, 'meta': {}, 'id': 'camera:page:page', 'typeName': 'camera'}, {'editingShapeId': None, 'croppingShapeId': None, 'selectedShapeIds': [], 'hoveredShapeId': None, 'erasingShapeIds': [], 'hintingShapeIds': [], 'focusedGroupId': None, 'meta': {}, 'id': 'instance_page_state:page:page', 'pageId': 'page:page', 'typeName': 'instance_page_state'}, {'followingUserId': None, 'opacityForNextShape': 1, 'stylesForNextShape': {'tldraw:dash': 'draw', 'tldraw:size': 'm'}, 'brush': None, 'scribbles': [], 'cursor': {'type': 'default', 'rotation': 0}, 'isFocusMode': False, 'exportBackground': True, 'isDebugMode': False, 'isToolLocked': False, 'screenBounds': {'x': 0, 'y': 0, 'w': 1536, 'h': 695.2000122070312}, 'insets': [False, False, True, False], 'zoomBrush': None, 'isGridMode': False, 'isPenMode': False, 'chatMessage': '', 'isChatting': False, 'highlightedUserIds': [], 'canMoveCamera': True, 'isFocused': True, 'devicePixelRatio': 1.25, 'isCoarsePointer': False, 'isHoveringCanvas': False, 'openMenus': ['main menu', 'main menu menu file'], 'isChangingStyle': False, 'isReadonly': False, 'meta': {}, 'duplicateProps': None, 'id': 'instance:instance', 'currentPageId': 'page:page', 'typeName': 'instance'}, {'x': 557.7654911198819, 'y': 238.80002975463867, 'rotation': 0, 'isLocked': False, 'opacity': 1, 'meta': {}, 'id': 'shape:4squXDBZQG64yg2i-x7Vv', 'type': 'text', 'props': {'color': 'black', 'size': 'm', 'w': 163.60000610351562, 'text': 'Hello tldraw!', 'font': 'draw', 'align': 'middle', 'autoSize': True, 'scale': 2.283949803295851}, 'parentId': 'page:page', 'index': 'a1', 'typeName': 'shape'}]\n"
     ]
    }
   ],
   "source": [
    "# Lecture des données JSON depuis un fichier\n",
    "with open('hello-tldraw.tldr', 'r') as fichier:\n",
    "    hello = json.load(fichier)\n",
    "\n",
    "# Vérification si la clé \"records\" existe dans la structure arborescente\n",
    "if 'records' in hello:\n",
    "    # Attribuer la liste d'enregistrements à une variable\n",
    "    records = hello['records']\n",
    "\n",
    "    # Affichage de la liste d'enregistrements\n",
    "    print(records)\n",
    "else:\n",
    "    print(\"La clé 'records' n'existe pas dans la structure arborescente.\")"
   ]
  },
  {
   "cell_type": "code",
   "execution_count": 40,
   "id": "6d3dd672-cf54-42d0-8625-ef11437fec15",
   "metadata": {},
   "outputs": [
    {
     "name": "stdout",
     "output_type": "stream",
     "text": [
      "['text']\n"
     ]
    }
   ],
   "source": [
    "# List to store type names\n",
    "noms_de_types = []\n",
    "\n",
    "# Loop through each record in the list\n",
    "for i in records:\n",
    "    # Check if the 'type' field exists in the record\n",
    "    if 'type' in i:\n",
    "        # Append the type name to the list\n",
    "        noms_de_types.append(i['type'])\n",
    "print(noms_de_types)"
   ]
  },
  {
   "cell_type": "code",
   "execution_count": null,
   "id": "c251b92c-6300-4843-9e44-5f3a28f2228d",
   "metadata": {},
   "outputs": [],
   "source": [
    "texte"
   ]
  },
  {
   "cell_type": "code",
   "execution_count": 9,
   "id": "dba9491e-08be-4870-aa2b-75e824b5d2b2",
   "metadata": {},
   "outputs": [
    {
     "data": {
      "text/plain": [
       "[{'x': 557.7654911198819,\n",
       "  'y': 238.80002975463867,\n",
       "  'rotation': 0,\n",
       "  'isLocked': False,\n",
       "  'opacity': 1,\n",
       "  'meta': {},\n",
       "  'id': 'shape:4squXDBZQG64yg2i-x7Vv',\n",
       "  'type': 'text',\n",
       "  'props': {'color': 'black',\n",
       "   'size': 'm',\n",
       "   'w': 163.60000610351562,\n",
       "   'text': 'Hello tldraw!',\n",
       "   'font': 'draw',\n",
       "   'align': 'middle',\n",
       "   'autoSize': True,\n",
       "   'scale': 2.283949803295851},\n",
       "  'parentId': 'page:page',\n",
       "  'index': 'a1',\n",
       "  'typeName': 'shape'}]"
      ]
     },
     "execution_count": 9,
     "metadata": {},
     "output_type": "execute_result"
    }
   ],
   "source": [
    "hello_text = [record for record in records if record.get(\"type\") == \"text\"]\n",
    "hello_text"
   ]
  },
  {
   "cell_type": "code",
   "execution_count": null,
   "id": "7101e851-aae6-4e4e-83c1-1f5bffc316bb",
   "metadata": {},
   "outputs": [],
   "source": []
  },
  {
   "cell_type": "code",
   "execution_count": null,
   "id": "ae71a48d-bf66-4c83-8ce2-36abcabc321d",
   "metadata": {},
   "outputs": [],
   "source": []
  },
  {
   "cell_type": "markdown",
   "id": "88a29de9-0fb7-4173-8f5e-29377e5e2147",
   "metadata": {},
   "source": [
    "# Edit the Document"
   ]
  },
  {
   "cell_type": "markdown",
   "id": "0e3880a5-049b-4d0a-a4aa-2678eff6406c",
   "metadata": {},
   "source": [
    "```{exercise} Text Content\n",
    "\n",
    "  1. Locate where in the `hello_text` record the text content is located.\n",
    "  \n",
    "  2. Replace \"Hello tldraw!\" with \"Hello Python!\"\n",
    "\n",
    "  3. Save the corresponding document in the directory `docs` as a `hello-python.tldr` file.\n",
    "\n",
    "  4. Load it in the tldraw editor and check that you end up with something similar to the picture below.\n",
    "\n",
    "```"
   ]
  },
  {
   "cell_type": "code",
   "execution_count": 10,
   "id": "b8832f0b-5933-4c33-9243-df0514d2235f",
   "metadata": {},
   "outputs": [
    {
     "data": {
      "text/plain": [
       "'Hello tldraw!'"
      ]
     },
     "execution_count": 10,
     "metadata": {},
     "output_type": "execute_result"
    }
   ],
   "source": [
    "# Question 1\n",
    "text_content = hello_text[0]['props']['text']\n",
    "text_content"
   ]
  },
  {
   "cell_type": "code",
   "execution_count": 11,
   "id": "93b2655a-b3a3-47b0-8531-c0662cd8a8fd",
   "metadata": {},
   "outputs": [],
   "source": [
    "# Question 2:\n",
    "hello_text[0]['props']['text'] = \"Hello Python!\""
   ]
  },
  {
   "cell_type": "code",
   "execution_count": 15,
   "id": "02f86de3-0f61-4acb-8447-22256c106be4",
   "metadata": {},
   "outputs": [],
   "source": [
    "# Question 3: \n",
    "with open('docs/hello-python.tldr', 'w') as file:\n",
    "    json.dump(hello, file)"
   ]
  },
  {
   "cell_type": "markdown",
   "id": "1f95f445-0b47-4cea-a53b-b8d0a8bed59f",
   "metadata": {},
   "source": [
    "![](images/hello-python.png)"
   ]
  }
 ],
 "metadata": {
  "kernelspec": {
   "display_name": "Python 3 (ipykernel)",
   "language": "python",
   "name": "python3"
  },
  "language_info": {
   "codemirror_mode": {
    "name": "ipython",
    "version": 3
   },
   "file_extension": ".py",
   "mimetype": "text/x-python",
   "name": "python",
   "nbconvert_exporter": "python",
   "pygments_lexer": "ipython3",
   "version": "3.11.4"
  }
 },
 "nbformat": 4,
 "nbformat_minor": 5
}
